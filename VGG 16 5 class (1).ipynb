{
 "cells": [
  {
   "cell_type": "code",
   "execution_count": null,
   "id": "YCNDxOC6HumF",
   "metadata": {
    "colab": {
     "base_uri": "https://localhost:8080/"
    },
    "executionInfo": {
     "elapsed": 32604,
     "status": "ok",
     "timestamp": 1675244002182,
     "user": {
      "displayName": "future tech ideas",
      "userId": "01083824563028521454"
     },
     "user_tz": -330
    },
    "id": "YCNDxOC6HumF",
    "outputId": "4cb47d4e-af8e-40d7-82d2-a5f2a28b7d8c"
   },
   "outputs": [],
   "source": []
  },
  {
   "cell_type": "code",
   "execution_count": 9,
   "id": "HbgNUuGYINsE",
   "metadata": {
    "colab": {
     "base_uri": "https://localhost:8080/"
    },
    "executionInfo": {
     "elapsed": 11,
     "status": "ok",
     "timestamp": 1675244002182,
     "user": {
      "displayName": "future tech ideas",
      "userId": "01083824563028521454"
     },
     "user_tz": -330
    },
    "id": "HbgNUuGYINsE",
    "outputId": "705bbe62-b435-4845-be1d-db5119bc3842"
   },
   "outputs": [],
   "source": [
    "base_dir = \"C:/Users/Dell/Downloads/Knee_Osteoarthritis_Predictor-main/Knee_Osteoarthritis_Predictor-main/Model_Training/Data\"\n",
    "train_dir = os.path.join(base_dir, 'train')\n",
    "\n",
    "test_dir = os.path.join(base_dir, 'test')"
   ]
  },
  {
   "cell_type": "code",
   "execution_count": null,
   "id": "0e1c5cf1",
   "metadata": {},
   "outputs": [],
   "source": [
    "pip install keras_preprocessing"
   ]
  },
  {
   "cell_type": "code",
   "execution_count": 8,
   "id": "8f1ff135",
   "metadata": {
    "executionInfo": {
     "elapsed": 3060,
     "status": "ok",
     "timestamp": 1675244039947,
     "user": {
      "displayName": "future tech ideas",
      "userId": "01083824563028521454"
     },
     "user_tz": -330
    },
    "id": "8f1ff135"
   },
   "outputs": [],
   "source": [
    "import numpy as np # linear algebra\n",
    "import pandas as pd # data processing, CSV file I/O (e.g. pd.read_csv)\n",
    "\n",
    "import sys\n",
    "import os\n",
    "from keras.applications.vgg16 import VGG16\n",
    "import keras\n",
    "from numpy import load\n",
    "\n",
    "from sklearn.model_selection import train_test_split\n",
    "from keras import backend\n",
    "from keras.layers import Dense\n",
    "from keras.layers import Flatten\n",
    "from keras.models import Sequential\n",
    "from keras.layers import Conv2D,MaxPooling2D\n",
    "from keras.optimizers import SGD\n",
    "from keras.models import Model\n",
    "from keras.preprocessing.image import ImageDataGenerator\n",
    "from keras_preprocessing.image import load_img\n",
    "from keras_preprocessing.image import img_to_array\n",
    "from keras.layers import Dropout\n",
    "from tensorflow.keras.layers import BatchNormalization\n"
   ]
  },
  {
   "cell_type": "code",
   "execution_count": 2,
   "id": "5ae789cb",
   "metadata": {},
   "outputs": [
    {
     "name": "stdout",
     "output_type": "stream",
     "text": [
      "Requirement already satisfied: keras_preprocessing in c:\\users\\dell\\anaconda3\\lib\\site-packages (1.1.2)\n",
      "Requirement already satisfied: numpy>=1.9.1 in c:\\users\\dell\\anaconda3\\lib\\site-packages (from keras_preprocessing) (1.23.5)\n",
      "Requirement already satisfied: six>=1.9.0 in c:\\users\\dell\\anaconda3\\lib\\site-packages (from keras_preprocessing) (1.16.0)\n",
      "Note: you may need to restart the kernel to use updated packages.\n"
     ]
    }
   ],
   "source": [
    "pip install keras_preprocessing\n"
   ]
  },
  {
   "cell_type": "code",
   "execution_count": 3,
   "id": "ee006a57",
   "metadata": {
    "executionInfo": {
     "elapsed": 542,
     "status": "ok",
     "timestamp": 1675244043971,
     "user": {
      "displayName": "future tech ideas",
      "userId": "01083824563028521454"
     },
     "user_tz": -330
    },
    "id": "ee006a57"
   },
   "outputs": [
    {
     "name": "stdout",
     "output_type": "stream",
     "text": [
      "WARNING:tensorflow:From C:\\Users\\Dell\\anaconda3\\lib\\site-packages\\keras\\src\\losses.py:2976: The name tf.losses.sparse_softmax_cross_entropy is deprecated. Please use tf.compat.v1.losses.sparse_softmax_cross_entropy instead.\n",
      "\n"
     ]
    }
   ],
   "source": [
    "from tensorflow.keras.preprocessing.image import ImageDataGenerator\n",
    "import tensorflow as tf\n",
    "import os\n"
   ]
  },
  {
   "cell_type": "code",
   "execution_count": null,
   "id": "660da85e",
   "metadata": {
    "executionInfo": {
     "elapsed": 500,
     "status": "ok",
     "timestamp": 1675244047375,
     "user": {
      "displayName": "future tech ideas",
      "userId": "01083824563028521454"
     },
     "user_tz": -330
    },
    "id": "660da85e"
   },
   "outputs": [],
   "source": []
  },
  {
   "cell_type": "code",
   "execution_count": 10,
   "id": "614d67c4",
   "metadata": {
    "executionInfo": {
     "elapsed": 507,
     "status": "ok",
     "timestamp": 1675244050227,
     "user": {
      "displayName": "future tech ideas",
      "userId": "01083824563028521454"
     },
     "user_tz": -330
    },
    "id": "614d67c4"
   },
   "outputs": [],
   "source": [
    "batch_size = 10\n",
    "epochs = 6\n",
    "img_height = 224\n",
    "img_width = 224"
   ]
  },
  {
   "cell_type": "code",
   "execution_count": 11,
   "id": "9cac2438",
   "metadata": {
    "colab": {
     "base_uri": "https://localhost:8080/"
    },
    "executionInfo": {
     "elapsed": 954,
     "status": "ok",
     "timestamp": 1675244053612,
     "user": {
      "displayName": "future tech ideas",
      "userId": "01083824563028521454"
     },
     "user_tz": -330
    },
    "id": "9cac2438",
    "outputId": "70eaed51-59ac-4276-dddc-35fa511a6087"
   },
   "outputs": [
    {
     "data": {
      "text/plain": [
       "2311"
      ]
     },
     "execution_count": 11,
     "metadata": {},
     "output_type": "execute_result"
    }
   ],
   "source": [
    " 1574 + 737"
   ]
  },
  {
   "cell_type": "code",
   "execution_count": 12,
   "id": "75af0e1b",
   "metadata": {
    "colab": {
     "base_uri": "https://localhost:8080/"
    },
    "executionInfo": {
     "elapsed": 3133,
     "status": "ok",
     "timestamp": 1675244059043,
     "user": {
      "displayName": "future tech ideas",
      "userId": "01083824563028521454"
     },
     "user_tz": -330
    },
    "id": "75af0e1b",
    "outputId": "b0a518fc-0359-4982-a368-299f3e19394e"
   },
   "outputs": [
    {
     "name": "stdout",
     "output_type": "stream",
     "text": [
      "Found 1650 images belonging to 5 classes.\n"
     ]
    }
   ],
   "source": [
    "train_image_generator = ImageDataGenerator(rescale=1./255)  \n",
    "train_data_gen = train_image_generator.flow_from_directory(batch_size=batch_size,directory=train_dir,shuffle=True,target_size=(img_height, img_width),class_mode='categorical')"
   ]
  },
  {
   "cell_type": "code",
   "execution_count": 13,
   "id": "7e13816a",
   "metadata": {
    "colab": {
     "base_uri": "https://localhost:8080/"
    },
    "executionInfo": {
     "elapsed": 2682,
     "status": "ok",
     "timestamp": 1675244065381,
     "user": {
      "displayName": "future tech ideas",
      "userId": "01083824563028521454"
     },
     "user_tz": -330
    },
    "id": "7e13816a",
    "outputId": "1857b35b-398a-4ced-9f18-98e0cf071600"
   },
   "outputs": [
    {
     "name": "stdout",
     "output_type": "stream",
     "text": [
      "Found 1650 images belonging to 5 classes.\n"
     ]
    }
   ],
   "source": [
    "val_image_generator = ImageDataGenerator(rescale=1./255)  \n",
    "val_data_gen = val_image_generator .flow_from_directory(batch_size=batch_size,directory=test_dir,shuffle=True,target_size=(img_height, img_width),class_mode='categorical')"
   ]
  },
  {
   "cell_type": "code",
   "execution_count": 14,
   "id": "426ec18e",
   "metadata": {
    "colab": {
     "base_uri": "https://localhost:8080/"
    },
    "executionInfo": {
     "elapsed": 5834,
     "status": "ok",
     "timestamp": 1675244074145,
     "user": {
      "displayName": "future tech ideas",
      "userId": "01083824563028521454"
     },
     "user_tz": -330
    },
    "id": "426ec18e",
    "outputId": "d615de8c-b362-42a6-ed56-c654f6763ec4"
   },
   "outputs": [
    {
     "name": "stdout",
     "output_type": "stream",
     "text": [
      "WARNING:tensorflow:From C:\\Users\\Dell\\anaconda3\\lib\\site-packages\\keras\\src\\backend.py:1398: The name tf.executing_eagerly_outside_functions is deprecated. Please use tf.compat.v1.executing_eagerly_outside_functions instead.\n",
      "\n",
      "WARNING:tensorflow:From C:\\Users\\Dell\\anaconda3\\lib\\site-packages\\keras\\src\\layers\\pooling\\max_pooling2d.py:161: The name tf.nn.max_pool is deprecated. Please use tf.nn.max_pool2d instead.\n",
      "\n"
     ]
    }
   ],
   "source": [
    " base_model = VGG16(weights = 'imagenet', include_top=False, input_shape=(img_width, img_height, 3))\n"
   ]
  },
  {
   "cell_type": "code",
   "execution_count": 15,
   "id": "467f9364",
   "metadata": {
    "executionInfo": {
     "elapsed": 475,
     "status": "ok",
     "timestamp": 1675244076350,
     "user": {
      "displayName": "future tech ideas",
      "userId": "01083824563028521454"
     },
     "user_tz": -330
    },
    "id": "467f9364"
   },
   "outputs": [],
   "source": [
    "base_model.trainable = False"
   ]
  },
  {
   "cell_type": "code",
   "execution_count": 16,
   "id": "c408ca39",
   "metadata": {
    "colab": {
     "base_uri": "https://localhost:8080/"
    },
    "executionInfo": {
     "elapsed": 524,
     "status": "ok",
     "timestamp": 1675244080129,
     "user": {
      "displayName": "future tech ideas",
      "userId": "01083824563028521454"
     },
     "user_tz": -330
    },
    "id": "c408ca39",
    "outputId": "09d02852-d546-4ce8-b3de-9d5f656d19e1"
   },
   "outputs": [
    {
     "name": "stdout",
     "output_type": "stream",
     "text": [
      "Model: \"vgg16\"\n",
      "_________________________________________________________________\n",
      " Layer (type)                Output Shape              Param #   \n",
      "=================================================================\n",
      " input_1 (InputLayer)        [(None, 224, 224, 3)]     0         \n",
      "                                                                 \n",
      " block1_conv1 (Conv2D)       (None, 224, 224, 64)      1792      \n",
      "                                                                 \n",
      " block1_conv2 (Conv2D)       (None, 224, 224, 64)      36928     \n",
      "                                                                 \n",
      " block1_pool (MaxPooling2D)  (None, 112, 112, 64)      0         \n",
      "                                                                 \n",
      " block2_conv1 (Conv2D)       (None, 112, 112, 128)     73856     \n",
      "                                                                 \n",
      " block2_conv2 (Conv2D)       (None, 112, 112, 128)     147584    \n",
      "                                                                 \n",
      " block2_pool (MaxPooling2D)  (None, 56, 56, 128)       0         \n",
      "                                                                 \n",
      " block3_conv1 (Conv2D)       (None, 56, 56, 256)       295168    \n",
      "                                                                 \n",
      " block3_conv2 (Conv2D)       (None, 56, 56, 256)       590080    \n",
      "                                                                 \n",
      " block3_conv3 (Conv2D)       (None, 56, 56, 256)       590080    \n",
      "                                                                 \n",
      " block3_pool (MaxPooling2D)  (None, 28, 28, 256)       0         \n",
      "                                                                 \n",
      " block4_conv1 (Conv2D)       (None, 28, 28, 512)       1180160   \n",
      "                                                                 \n",
      " block4_conv2 (Conv2D)       (None, 28, 28, 512)       2359808   \n",
      "                                                                 \n",
      " block4_conv3 (Conv2D)       (None, 28, 28, 512)       2359808   \n",
      "                                                                 \n",
      " block4_pool (MaxPooling2D)  (None, 14, 14, 512)       0         \n",
      "                                                                 \n",
      " block5_conv1 (Conv2D)       (None, 14, 14, 512)       2359808   \n",
      "                                                                 \n",
      " block5_conv2 (Conv2D)       (None, 14, 14, 512)       2359808   \n",
      "                                                                 \n",
      " block5_conv3 (Conv2D)       (None, 14, 14, 512)       2359808   \n",
      "                                                                 \n",
      " block5_pool (MaxPooling2D)  (None, 7, 7, 512)         0         \n",
      "                                                                 \n",
      "=================================================================\n",
      "Total params: 14714688 (56.13 MB)\n",
      "Trainable params: 0 (0.00 Byte)\n",
      "Non-trainable params: 14714688 (56.13 MB)\n",
      "_________________________________________________________________\n"
     ]
    }
   ],
   "source": [
    "base_model.summary()"
   ]
  },
  {
   "cell_type": "code",
   "execution_count": 17,
   "id": "061b07ec",
   "metadata": {
    "colab": {
     "base_uri": "https://localhost:8080/"
    },
    "executionInfo": {
     "elapsed": 646,
     "status": "ok",
     "timestamp": 1675244100800,
     "user": {
      "displayName": "future tech ideas",
      "userId": "01083824563028521454"
     },
     "user_tz": -330
    },
    "id": "061b07ec",
    "outputId": "2d24371f-7f17-40f9-82ee-299ca9809980"
   },
   "outputs": [
    {
     "name": "stdout",
     "output_type": "stream",
     "text": [
      "Model: \"sequential\"\n",
      "_________________________________________________________________\n",
      " Layer (type)                Output Shape              Param #   \n",
      "=================================================================\n",
      " vgg16 (Functional)          (None, 7, 7, 512)         14714688  \n",
      "                                                                 \n",
      " flatten (Flatten)           (None, 25088)             0         \n",
      "                                                                 \n",
      " dense (Dense)               (None, 5)                 125445    \n",
      "                                                                 \n",
      "=================================================================\n",
      "Total params: 14840133 (56.61 MB)\n",
      "Trainable params: 125445 (490.02 KB)\n",
      "Non-trainable params: 14714688 (56.13 MB)\n",
      "_________________________________________________________________\n"
     ]
    }
   ],
   "source": [
    "classifier=keras.models.Sequential()\n",
    "classifier.add(base_model)\n",
    "classifier.add(Flatten())\n",
    "classifier.add(Dense(5,activation='softmax'))\n",
    "classifier.summary()"
   ]
  },
  {
   "cell_type": "code",
   "execution_count": 18,
   "id": "4e1afd38",
   "metadata": {
    "executionInfo": {
     "elapsed": 4,
     "status": "ok",
     "timestamp": 1675244104558,
     "user": {
      "displayName": "future tech ideas",
      "userId": "01083824563028521454"
     },
     "user_tz": -330
    },
    "id": "4e1afd38"
   },
   "outputs": [
    {
     "name": "stdout",
     "output_type": "stream",
     "text": [
      "WARNING:tensorflow:From C:\\Users\\Dell\\anaconda3\\lib\\site-packages\\keras\\src\\optimizers\\__init__.py:309: The name tf.train.Optimizer is deprecated. Please use tf.compat.v1.train.Optimizer instead.\n",
      "\n"
     ]
    }
   ],
   "source": [
    "classifier.compile(optimizer='adam',\n",
    "              loss='categorical_crossentropy',\n",
    "              metrics=['accuracy'])"
   ]
  },
  {
   "cell_type": "code",
   "execution_count": 19,
   "id": "17ce58b9",
   "metadata": {
    "colab": {
     "base_uri": "https://localhost:8080/"
    },
    "executionInfo": {
     "elapsed": 1335393,
     "status": "ok",
     "timestamp": 1675245444298,
     "user": {
      "displayName": "future tech ideas",
      "userId": "01083824563028521454"
     },
     "user_tz": -330
    },
    "id": "17ce58b9",
    "outputId": "3e9ccb3d-8ad9-44de-ee21-31df41851127"
   },
   "outputs": [
    {
     "name": "stdout",
     "output_type": "stream",
     "text": [
      "Epoch 1/15\n",
      "WARNING:tensorflow:From C:\\Users\\Dell\\anaconda3\\lib\\site-packages\\keras\\src\\utils\\tf_utils.py:492: The name tf.ragged.RaggedTensorValue is deprecated. Please use tf.compat.v1.ragged.RaggedTensorValue instead.\n",
      "\n",
      "WARNING:tensorflow:From C:\\Users\\Dell\\anaconda3\\lib\\site-packages\\keras\\src\\engine\\base_layer_utils.py:384: The name tf.executing_eagerly_outside_functions is deprecated. Please use tf.compat.v1.executing_eagerly_outside_functions instead.\n",
      "\n",
      "165/165 [==============================] - 554s 3s/step - loss: 1.4650 - accuracy: 0.4588 - val_loss: 0.8194 - val_accuracy: 0.6709\n",
      "Epoch 2/15\n",
      "165/165 [==============================] - 621s 4s/step - loss: 0.8680 - accuracy: 0.6782 - val_loss: 0.6743 - val_accuracy: 0.7448\n",
      "Epoch 3/15\n",
      "165/165 [==============================] - 642s 4s/step - loss: 0.7179 - accuracy: 0.7315 - val_loss: 0.5386 - val_accuracy: 0.8152\n",
      "Epoch 4/15\n",
      "165/165 [==============================] - 606s 4s/step - loss: 0.5897 - accuracy: 0.7764 - val_loss: 0.6261 - val_accuracy: 0.7333\n",
      "Epoch 5/15\n",
      "165/165 [==============================] - 532s 3s/step - loss: 0.5190 - accuracy: 0.8048 - val_loss: 0.3585 - val_accuracy: 0.8861\n",
      "Epoch 6/15\n",
      "165/165 [==============================] - 495s 3s/step - loss: 0.3836 - accuracy: 0.8618 - val_loss: 0.2695 - val_accuracy: 0.9273\n",
      "Epoch 7/15\n",
      "165/165 [==============================] - 594s 4s/step - loss: 0.4021 - accuracy: 0.8570 - val_loss: 0.2481 - val_accuracy: 0.9412\n",
      "Epoch 8/15\n",
      "165/165 [==============================] - 653s 4s/step - loss: 0.2918 - accuracy: 0.9079 - val_loss: 0.3479 - val_accuracy: 0.8764\n",
      "Epoch 9/15\n",
      "165/165 [==============================] - 626s 4s/step - loss: 0.2857 - accuracy: 0.9055 - val_loss: 0.2019 - val_accuracy: 0.9594\n",
      "Epoch 10/15\n",
      "165/165 [==============================] - 642s 4s/step - loss: 0.2229 - accuracy: 0.9358 - val_loss: 0.2012 - val_accuracy: 0.9521\n",
      "Epoch 11/15\n",
      "165/165 [==============================] - 608s 4s/step - loss: 0.2065 - accuracy: 0.9345 - val_loss: 0.3167 - val_accuracy: 0.8739\n",
      "Epoch 12/15\n",
      "165/165 [==============================] - 596s 4s/step - loss: 0.2111 - accuracy: 0.9321 - val_loss: 0.1511 - val_accuracy: 0.9733\n",
      "Epoch 13/15\n",
      "165/165 [==============================] - 623s 4s/step - loss: 0.1834 - accuracy: 0.9473 - val_loss: 0.2231 - val_accuracy: 0.9364\n",
      "Epoch 14/15\n",
      "165/165 [==============================] - 559s 3s/step - loss: 0.1623 - accuracy: 0.9570 - val_loss: 0.2291 - val_accuracy: 0.9285\n",
      "Epoch 15/15\n",
      "165/165 [==============================] - 640s 4s/step - loss: 0.1497 - accuracy: 0.9618 - val_loss: 0.1146 - val_accuracy: 0.9824\n"
     ]
    }
   ],
   "source": [
    "history = classifier.fit(train_data_gen, epochs=15,\n",
    "validation_data= val_data_gen,)"
   ]
  },
  {
   "cell_type": "code",
   "execution_count": 20,
   "id": "1ed0efed",
   "metadata": {},
   "outputs": [
    {
     "name": "stderr",
     "output_type": "stream",
     "text": [
      "C:\\Users\\Dell\\anaconda3\\lib\\site-packages\\keras\\src\\engine\\training.py:3103: UserWarning: You are saving your model as an HDF5 file via `model.save()`. This file format is considered legacy. We recommend using instead the native Keras format, e.g. `model.save('my_model.keras')`.\n",
      "  saving_api.save_model(\n"
     ]
    }
   ],
   "source": [
    "model_save_loc=\"D:/Nikhil final/trained model/VGG16(1).hdf5\"\n",
    "classifier.save(model_save_loc)"
   ]
  },
  {
   "cell_type": "code",
   "execution_count": 21,
   "id": "01d63efc",
   "metadata": {
    "executionInfo": {
     "elapsed": 749,
     "status": "ok",
     "timestamp": 1675245454609,
     "user": {
      "displayName": "future tech ideas",
      "userId": "01083824563028521454"
     },
     "user_tz": -330
    },
    "id": "01d63efc",
    "scrolled": true
   },
   "outputs": [],
   "source": [
    "classifier.save('knee.h5')"
   ]
  },
  {
   "cell_type": "code",
   "execution_count": 17,
   "id": "493a7369",
   "metadata": {
    "executionInfo": {
     "elapsed": 526,
     "status": "ok",
     "timestamp": 1675245458681,
     "user": {
      "displayName": "future tech ideas",
      "userId": "01083824563028521454"
     },
     "user_tz": -330
    },
    "id": "493a7369"
   },
   "outputs": [],
   "source": [
    "#pip install Pillow"
   ]
  },
  {
   "cell_type": "code",
   "execution_count": 17,
   "id": "3d34d3e5",
   "metadata": {
    "executionInfo": {
     "elapsed": 4,
     "status": "ok",
     "timestamp": 1675245461503,
     "user": {
      "displayName": "future tech ideas",
      "userId": "01083824563028521454"
     },
     "user_tz": -330
    },
    "id": "3d34d3e5"
   },
   "outputs": [],
   "source": [
    "import numpy as np"
   ]
  },
  {
   "cell_type": "code",
   "execution_count": 22,
   "id": "ef5957ef",
   "metadata": {
    "colab": {
     "base_uri": "https://localhost:8080/"
    },
    "executionInfo": {
     "elapsed": 16505,
     "status": "ok",
     "timestamp": 1675245483242,
     "user": {
      "displayName": "future tech ideas",
      "userId": "01083824563028521454"
     },
     "user_tz": -330
    },
    "id": "ef5957ef",
    "outputId": "9a34f214-630b-4c28-a0ab-8a579ed1f0ad"
   },
   "outputs": [
    {
     "name": "stdout",
     "output_type": "stream",
     "text": [
      "165/165 - 354s - 354s/epoch - 2s/step\n"
     ]
    }
   ],
   "source": [
    "y=np.concatenate([val_data_gen.next()[1] for i in range(val_data_gen.__len__())])\n",
    "true_labels=np.argmax(y, axis=-1)\n",
    "prediction= classifier.predict(val_data_gen, verbose=2)\n",
    "prediction=np.argmax(prediction, axis=-1)"
   ]
  },
  {
   "cell_type": "code",
   "execution_count": 23,
   "id": "37c236dc",
   "metadata": {
    "executionInfo": {
     "elapsed": 590,
     "status": "ok",
     "timestamp": 1675245487560,
     "user": {
      "displayName": "future tech ideas",
      "userId": "01083824563028521454"
     },
     "user_tz": -330
    },
    "id": "37c236dc"
   },
   "outputs": [],
   "source": [
    "import matplotlib.pyplot as plt"
   ]
  },
  {
   "cell_type": "code",
   "execution_count": 24,
   "id": "21ec7742",
   "metadata": {
    "executionInfo": {
     "elapsed": 799,
     "status": "ok",
     "timestamp": 1675245491269,
     "user": {
      "displayName": "future tech ideas",
      "userId": "01083824563028521454"
     },
     "user_tz": -330
    },
    "id": "21ec7742"
   },
   "outputs": [],
   "source": [
    "def plot_confusion_matrix(cm, classes,\n",
    "                          normalize=False,\n",
    "                          title='Confusion matrix',\n",
    "                          cmap=plt.cm.Blues):\n",
    "    \"\"\"\n",
    "    This function prints and plots the confusion matrix.\n",
    "    Normalization can be applied by setting `normalize=True`.\n",
    "    \"\"\"\n",
    "    plt.imshow(cm, interpolation='nearest', cmap=cmap)\n",
    "    plt.title(title)\n",
    "    plt.colorbar()\n",
    "    tick_marks = np.arange(len(classes))\n",
    "    plt.xticks(tick_marks, classes, rotation=85)\n",
    "    plt.yticks(tick_marks, classes)\n",
    "\n",
    "    if normalize:\n",
    "        cm = cm.astype('float') / cm.sum(axis=1)[:, np.newaxis]\n",
    "        print(\"Normalized confusion matrix\")\n",
    "    else:\n",
    "        print('Confusion matrix, without normalization')\n",
    "\n",
    "    print(cm)\n",
    "\n",
    "    thresh = cm.max() / 2.\n",
    "    for i, j in itertools.product(range(cm.shape[0]), range(cm.shape[1])):\n",
    "        plt.text(j, i, cm[i, j],\n",
    "            horizontalalignment=\"center\",\n",
    "            color=\"white\" if cm[i, j] > thresh else \"black\")\n",
    "\n",
    "    plt.tight_layout()\n",
    "    plt.ylabel('True label')\n",
    "    plt.xlabel('Predicted label')"
   ]
  },
  {
   "cell_type": "code",
   "execution_count": 25,
   "id": "b77a6579",
   "metadata": {
    "executionInfo": {
     "elapsed": 4,
     "status": "ok",
     "timestamp": 1675245495243,
     "user": {
      "displayName": "future tech ideas",
      "userId": "01083824563028521454"
     },
     "user_tz": -330
    },
    "id": "b77a6579"
   },
   "outputs": [],
   "source": [
    "from sklearn.metrics import confusion_matrix\n",
    "import itertools\n",
    "import matplotlib.pyplot as plt\n",
    "cm = confusion_matrix(y_true=true_labels, y_pred=prediction)"
   ]
  },
  {
   "cell_type": "code",
   "execution_count": 26,
   "id": "ed4e4bc5",
   "metadata": {
    "executionInfo": {
     "elapsed": 551,
     "status": "ok",
     "timestamp": 1675245499437,
     "user": {
      "displayName": "future tech ideas",
      "userId": "01083824563028521454"
     },
     "user_tz": -330
    },
    "id": "ed4e4bc5"
   },
   "outputs": [],
   "source": [
    "cm_plot_labels = [\"Normal\",\"Doubtful\",\"Mild\",\"Moderate\",\"Severe\"]"
   ]
  },
  {
   "cell_type": "code",
   "execution_count": 27,
   "id": "243d50d8",
   "metadata": {
    "colab": {
     "base_uri": "https://localhost:8080/",
     "height": 490
    },
    "executionInfo": {
     "elapsed": 638,
     "status": "ok",
     "timestamp": 1675245505655,
     "user": {
      "displayName": "future tech ideas",
      "userId": "01083824563028521454"
     },
     "user_tz": -330
    },
    "id": "243d50d8",
    "outputId": "d37cd69e-a9de-4068-c70c-a792b1bcc0ea"
   },
   "outputs": [
    {
     "name": "stdout",
     "output_type": "stream",
     "text": [
      "Confusion matrix, without normalization\n",
      "[[502   0   0   1   0]\n",
      " [ 21 461   3   3   0]\n",
      " [  0   0 231   1   0]\n",
      " [  0   0   0 221   0]\n",
      " [  0   0   0   0 206]]\n",
      "Accuracy: 0.982\n",
      "Precision: 0.996\n",
      "Recall: 0.982\n",
      "F-Measure: 0.982\n"
     ]
    },
    {
     "data": {
      "image/png": "[encoded data removed]",
      "text/plain": [
       "<Figure size 640x480 with 2 Axes>"
      ]
     },
     "metadata": {},
     "output_type": "display_data"
    }
   ],
   "source": [
    "plot_confusion_matrix(cm=cm, classes=cm_plot_labels, title='Confusion Matrix')\n",
    "from sklearn.metrics import accuracy_score\n",
    "acc=accuracy_score(true_labels,prediction) \n",
    "print('Accuracy: %.3f' % acc)\n",
    "from sklearn.metrics import precision_score\n",
    "precision = precision_score(true_labels,prediction,labels=[1,2], average='micro')\n",
    "print('Precision: %.3f' % precision)\n",
    "from sklearn.metrics import recall_score\n",
    "recall = recall_score(true_labels,prediction, average='micro')\n",
    "print('Recall: %.3f' % recall)\n",
    "from sklearn.metrics import f1_score\n",
    "score = f1_score(true_labels,prediction, average='micro')\n",
    "print('F-Measure: %.3f' % score)"
   ]
  },
  {
   "cell_type": "code",
   "execution_count": 28,
   "id": "7311748f",
   "metadata": {
    "executionInfo": {
     "elapsed": 560,
     "status": "ok",
     "timestamp": 1675245536319,
     "user": {
      "displayName": "future tech ideas",
      "userId": "01083824563028521454"
     },
     "user_tz": -330
    },
    "id": "7311748f"
   },
   "outputs": [],
   "source": [
    "from PIL import Image\n",
    "import numpy as np\n",
    "import matplotlib.pyplot as plt\n",
    "def test_on_img(img):\n",
    "    data=[]\n",
    "    image = Image.open(img)\n",
    "    image = image.resize((224,224))\n",
    "    data.append(np.array(image))\n",
    "    X_test=np.array(data)\n",
    "    Y_pred = classifier.predict_classes(X_test)\n",
    "    return image,Y_pred\n",
    "  "
   ]
  },
  {
   "cell_type": "code",
   "execution_count": 30,
   "id": "WgtnKsl9bXyd",
   "metadata": {
    "colab": {
     "base_uri": "https://localhost:8080/",
     "height": 299
    },
    "executionInfo": {
     "elapsed": 1336,
     "status": "ok",
     "timestamp": 1675245788081,
     "user": {
      "displayName": "future tech ideas",
      "userId": "01083824563028521454"
     },
     "user_tz": -330
    },
    "id": "WgtnKsl9bXyd",
    "outputId": "05ed8624-c6c8-4086-adde-c94bbfab92de"
   },
   "outputs": [
    {
     "data": {
      "image/png": "[encoded data removed]",
      "text/plain": [
       "<Figure size 640x480 with 1 Axes>"
      ]
     },
     "metadata": {},
     "output_type": "display_data"
    }
   ],
   "source": [
    "# plot the training loss and accuracy\n",
    "N = 15 #number of epochs\n",
    "plt.style.use(\"ggplot\")\n",
    "plt.figure()\n",
    "plt.plot(np.arange(0, N), history.history[\"loss\"], label=\"train_loss\")\n",
    "plt.plot(np.arange(0, N), history.history[\"val_loss\"], label=\"val_loss\")\n",
    "plt.plot(np.arange(0, N), history.history[\"accuracy\"], label=\"train_acc\")\n",
    "plt.plot(np.arange(0, N), history.history[\"val_accuracy\"], label=\"val_acc\")\n",
    "plt.title(\"Training Loss and Accuracy\")\n",
    "plt.xlabel(\"Epoch #\")\n",
    "plt.ylabel(\"Loss/Accuracy\")\n",
    "plt.legend(loc=\"center right\")\n",
    "plt.savefig(\"CNN_Model\")"
   ]
  },
  {
   "cell_type": "code",
   "execution_count": null,
   "id": "69dff978",
   "metadata": {},
   "outputs": [],
   "source": []
  },
  {
   "cell_type": "code",
   "execution_count": null,
   "id": "a7c168db",
   "metadata": {},
   "outputs": [],
   "source": []
  }
 ],
 "metadata": {
  "accelerator": "GPU",
  "colab": {
   "provenance": []
  },
  "gpuClass": "standard",
  "kernelspec": {
   "display_name": "Python 3 (ipykernel)",
   "language": "python",
   "name": "python3"
  },
  "language_info": {
   "codemirror_mode": {
    "name": "ipython",
    "version": 3
   },
   "file_extension": ".py",
   "mimetype": "text/x-python",
   "name": "python",
   "nbconvert_exporter": "python",
   "pygments_lexer": "ipython3",
   "version": "3.10.9"
  },
  "vscode": {
   "interpreter": {
    "hash": "8e6c880b56f86dda2603b72d31b21c53c0c889da0e61295d2f857cb8b0ab21aa"
   }
  }
 },
 "nbformat": 4,
 "nbformat_minor": 5
}
